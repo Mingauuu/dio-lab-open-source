{
  "nbformat": 4,
  "nbformat_minor": 0,
  "metadata": {
    "colab": {
      "provenance": [],
      "authorship_tag": "ABX9TyPu+/fEiIg0i5OfT2XrRvMz",
      "include_colab_link": true
    },
    "kernelspec": {
      "name": "python3",
      "display_name": "Python 3"
    },
    "language_info": {
      "name": "python"
    }
  },
  "cells": [
    {
      "cell_type": "markdown",
      "metadata": {
        "id": "view-in-github",
        "colab_type": "text"
      },
      "source": [
        "<a href=\"https://colab.research.google.com/github/Mingauuu/dio-lab-open-source/blob/main/Untitled0.ipynb\" target=\"_parent\"><img src=\"https://colab.research.google.com/assets/colab-badge.svg\" alt=\"Open In Colab\"/></a>"
      ]
    },
    {
      "cell_type": "code",
      "execution_count": 31,
      "metadata": {
        "colab": {
          "base_uri": "https://localhost:8080/"
        },
        "id": "EnPuI1QoFfTN",
        "outputId": "bda2e414-7f45-4bd5-a35e-f25006e790a2"
      },
      "outputs": [
        {
          "output_type": "stream",
          "name": "stdout",
          "text": [
            "Digite a Quantidade de CDS: 3\n",
            "Valor do CD 1º R$: 2.5\n",
            "Valor do CD 2º R$: 1.36\n",
            "Valor do CD 3º R$: 7.69\n",
            "O valor total gasto com a coleção de 3 Cds é de R$11.55\n",
            "O valor medio gasto na coleção é de 3.85\n"
          ]
        }
      ],
      "source": [
        "def caulcula_valor_total (precos_cds: list) -> float:\n",
        "    if not precos_cds:\n",
        "        return 0\n",
        "    return sum(precos_cds)\n",
        "\n",
        "def calcula_valor_medio(precos_cds: list) -> float:\n",
        "    if not precos_cds:\n",
        "        return 0\n",
        "    return sum(precos_cds) / len(precos_cds)\n",
        "\n",
        "quantidade_cds = int(input('Digite a Quantidade de CDS: '))\n",
        "\n",
        "precos_cds = []\n",
        "\n",
        "for i in range(quantidade_cds):\n",
        "   i = float(input(f'Valor do CD {i+1}º R$: '))\n",
        "   precos_cds.append(i)\n",
        "\n",
        "preco_total = caulcula_valor_total(precos_cds)\n",
        "print(f'O valor total gasto com a coleção de {quantidade_cds} Cds é de R${preco_total}')\n",
        "\n",
        "media_precos = calcula_valor_medio(precos_cds)\n",
        "print(f'O valor medio gasto na coleção é de {media_precos}')"
      ]
    }
  ]
}